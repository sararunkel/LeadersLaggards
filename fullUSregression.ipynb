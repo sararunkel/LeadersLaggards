{
 "cells": [
  {
   "cell_type": "code",
   "execution_count": 2,
   "metadata": {},
   "outputs": [],
   "source": [
    "import pandas as pd\n",
    "import numpy as np"
   ]
  },
  {
   "cell_type": "code",
   "execution_count": 36,
   "metadata": {},
   "outputs": [],
   "source": [
    "import os\n",
    "from datetime import date    \n",
    "today = date.today()\n",
    "## Get output folder\n",
    "dr = str(today.year)+str(today.month).zfill(2)\n",
    "os.chdir('/Users/sara.runkel/Documents/13000Cities/')\n",
    "output_dir = '/Users/sara.runkel/Documents/13000Cities/Outputs/' + dr +'/'\n",
    "if not os.path.exists(output_dir):\n",
    "    os.makedirs(output_dir)\n",
    "    print('Made monthly output directory')\n",
    "if not os.path.exists(output_dir+today.isoformat()):\n",
    "    os.makedirs(output_dir+today.isoformat())\n",
    "    print('Made daily output directory')\n",
    "output_dir = '/Users/sara.runkel/Documents/13000Cities/Outputs/' + dr +'/' + today.isoformat() +'/'"
   ]
  },
  {
   "cell_type": "code",
   "execution_count": 4,
   "metadata": {},
   "outputs": [],
   "source": [
    "xls = pd.ExcelFile('./demographic/MSAGDP/MSA_Population.xlsx')\n",
    "msa = pd.read_excel(xls, 'MSA_2010')\n",
    "#pop_2019 = pd.read_excel(xls, '2019')\n",
    "pop_2010 =pd.read_excel(xls, '2010')\n",
    "us = pd.read_excel(xls,'US_13')\n",
    "gdp = pd.read_excel(xls,'GDP')\n",
    "m_19=pd.read_excel(xls,'Sheet4')"
   ]
  },
  {
   "cell_type": "code",
   "execution_count": 4,
   "metadata": {},
   "outputs": [],
   "source": [
    "msa.merge(pop_2010['Label'], how ='right', on='Label').drop_duplicates(subset='Label').to_csv('Msa_pop_merge.csv')"
   ]
  },
  {
   "cell_type": "code",
   "execution_count": 9,
   "metadata": {},
   "outputs": [],
   "source": [
    "full = pd.read_excel(xls, 'usa')"
   ]
  },
  {
   "cell_type": "code",
   "execution_count": 174,
   "metadata": {},
   "outputs": [
    {
     "data": {
      "text/plain": [
       "0          Abilene, United States (265)\n",
       "1         Abington, United States (925)\n",
       "2            Akron, United States (798)\n",
       "3           Albany, United States (988)\n",
       "4      Albuquerque, United States (196)\n",
       "                     ...               \n",
       "325         Yakima, United States (163)\n",
       "326           York, United States (892)\n",
       "327     Youngstown, United States (822)\n",
       "328       Yuba City, United States (55)\n",
       "329            Yuma, United States (60)\n",
       "Name: CityCountry, Length: 330, dtype: object"
      ]
     },
     "execution_count": 174,
     "metadata": {},
     "output_type": "execute_result"
    }
   ],
   "source": [
    "us_10[~us_10.index.isin(gdp.CityCountry)]"
   ]
  },
  {
   "cell_type": "code",
   "execution_count": 6,
   "metadata": {},
   "outputs": [],
   "source": [
    "msa_full =msa.merge(m_19[['Merge',2019]],how='left',left_on='Label',right_on='Merge')"
   ]
  },
  {
   "cell_type": "code",
   "execution_count": 11,
   "metadata": {},
   "outputs": [],
   "source": [
    "from scipy.stats import linregress\n",
    "from statsmodels.compat import lzip\n",
    "\n",
    "import numpy as np\n",
    "import pandas as pd\n",
    "import statsmodels.formula.api as smf\n",
    "import statsmodels.stats.api as sms\n",
    "import statsmodels.api as sm\n",
    "\n"
   ]
  },
  {
   "cell_type": "code",
   "execution_count": 12,
   "metadata": {},
   "outputs": [],
   "source": [
    "us_19= full.query(\"Year ==2019\").copy().drop_duplicates().set_index('CityCountry')\n",
    "us_19['Slope']= full.groupby('CityCountry').apply(lambda v: linregress(v.Year, v.NO2)[0])\n",
    "us_10= full.query(\"Year ==2010\").copy().drop_duplicates().set_index('CityCountry')\n"
   ]
  },
  {
   "cell_type": "code",
   "execution_count": 9,
   "metadata": {},
   "outputs": [],
   "source": [
    "merge= us_19.reset_index().merge(gdp.reset_index(),how='left')\n",
    "merge.set_index('CityCountry',inplace=True)"
   ]
  },
  {
   "cell_type": "code",
   "execution_count": 10,
   "metadata": {},
   "outputs": [],
   "source": [
    "merge['Base_GDP'] =merge[2010]\n",
    "merge['GDP'] =merge[2019]"
   ]
  },
  {
   "cell_type": "code",
   "execution_count": 11,
   "metadata": {},
   "outputs": [],
   "source": [
    "merge['Base_NO2']=us_10['NO2']\n",
    "merge['Base_Population']=us_10['Population']"
   ]
  },
  {
   "cell_type": "code",
   "execution_count": 12,
   "metadata": {},
   "outputs": [],
   "source": [
    "merge['NO2T']=np.log(merge.NO2)\n",
    "merge['BaseT']=np.sqrt(merge.Base_NO2)\n",
    "merge['LogGDP']=np.log(merge[2010])\n",
    "gdp.set_index('CityCountry', inplace=True)"
   ]
  },
  {
   "cell_type": "code",
   "execution_count": 13,
   "metadata": {},
   "outputs": [],
   "source": [
    "f= pd.read_csv('./Inputs/unified_data_SR-v4.csv')\n",
    "f= f[f.Country=='United States'].drop_duplicates().query('Year==2019').copy()\n",
    "st =pd.read_csv('./Inputs/IDtoSt.csv')"
   ]
  },
  {
   "cell_type": "code",
   "execution_count": 14,
   "metadata": {},
   "outputs": [],
   "source": [
    "indy=f.merge(st[['ID','State']], how='left').drop_duplicates(subset='CityCountry').set_index('CityCountry')\n",
    "merge['State']=indy['State']"
   ]
  },
  {
   "cell_type": "code",
   "execution_count": 15,
   "metadata": {},
   "outputs": [],
   "source": [
    "NW = ['WA','OR','ID']\n",
    "SW=['CA','NV','UT','NM','AZ','CO']\n",
    "NGP=['MT','WY','ND','SD','NE']\n",
    "SGP=['TX','OK','KS']\n",
    "SE=['LA','AR','AL','FL','MS','TN','KY','GA','SC','NC','DC','VA']\n",
    "NE = ['WV','PA','NY','MD','DE','NH','VT','ME','MA','RI','NJ','CT']\n",
    "MW =['WI','MO','MN','MI','IN','IL','IA','OH']\n",
    "Other = ['AK','HI']\n",
    "\n",
    "rdict = {'NW':NW,'SW':SW,'NGP':NGP,'SGP':SGP,'SE':SE,'NE':NE,'MW':MW,'Other':Other}"
   ]
  },
  {
   "cell_type": "code",
   "execution_count": 16,
   "metadata": {},
   "outputs": [],
   "source": [
    "merge['Region']=''\n",
    "for i in rdict:\n",
    "    filter = merge[\"State\"].isin(rdict[i])\n",
    "    merge['Region'].where(~filter,i,inplace=True)\n"
   ]
  },
  {
   "cell_type": "code",
   "execution_count": 42,
   "metadata": {},
   "outputs": [],
   "source": [
    "y= plot['NO2T']\n",
    "X = plot[['BaseT','LogGDP','Region']]\n"
   ]
  },
  {
   "cell_type": "code",
   "execution_count": 43,
   "metadata": {},
   "outputs": [],
   "source": [
    "from category_encoders import *\n",
    "import pandas as pd\n",
    "import numpy as np\n",
    "enc = GLMMEncoder(cols=['Region']).fit(X,y)"
   ]
  },
  {
   "cell_type": "code",
   "execution_count": 44,
   "metadata": {},
   "outputs": [
    {
     "data": {
      "text/html": [
       "<div>\n",
       "<style scoped>\n",
       "    .dataframe tbody tr th:only-of-type {\n",
       "        vertical-align: middle;\n",
       "    }\n",
       "\n",
       "    .dataframe tbody tr th {\n",
       "        vertical-align: top;\n",
       "    }\n",
       "\n",
       "    .dataframe thead th {\n",
       "        text-align: right;\n",
       "    }\n",
       "</style>\n",
       "<table border=\"1\" class=\"dataframe\">\n",
       "  <thead>\n",
       "    <tr style=\"text-align: right;\">\n",
       "      <th></th>\n",
       "      <th>BaseT</th>\n",
       "      <th>LogGDP</th>\n",
       "      <th>Region</th>\n",
       "    </tr>\n",
       "  </thead>\n",
       "  <tbody>\n",
       "    <tr>\n",
       "      <th>0</th>\n",
       "      <td>3.204684</td>\n",
       "      <td>16.337559</td>\n",
       "      <td>0.073971</td>\n",
       "    </tr>\n",
       "    <tr>\n",
       "      <th>1</th>\n",
       "      <td>3.765634</td>\n",
       "      <td>16.166949</td>\n",
       "      <td>0.233597</td>\n",
       "    </tr>\n",
       "    <tr>\n",
       "      <th>2</th>\n",
       "      <td>3.629049</td>\n",
       "      <td>19.765188</td>\n",
       "      <td>0.073971</td>\n",
       "    </tr>\n",
       "    <tr>\n",
       "      <th>3</th>\n",
       "      <td>3.600000</td>\n",
       "      <td>19.650585</td>\n",
       "      <td>-0.086020</td>\n",
       "    </tr>\n",
       "    <tr>\n",
       "      <th>4</th>\n",
       "      <td>3.361547</td>\n",
       "      <td>16.047546</td>\n",
       "      <td>0.073971</td>\n",
       "    </tr>\n",
       "    <tr>\n",
       "      <th>...</th>\n",
       "      <td>...</td>\n",
       "      <td>...</td>\n",
       "      <td>...</td>\n",
       "    </tr>\n",
       "    <tr>\n",
       "      <th>325</th>\n",
       "      <td>3.395585</td>\n",
       "      <td>16.941568</td>\n",
       "      <td>-0.093868</td>\n",
       "    </tr>\n",
       "    <tr>\n",
       "      <th>326</th>\n",
       "      <td>3.675595</td>\n",
       "      <td>17.732526</td>\n",
       "      <td>-0.093868</td>\n",
       "    </tr>\n",
       "    <tr>\n",
       "      <th>327</th>\n",
       "      <td>3.144837</td>\n",
       "      <td>16.309429</td>\n",
       "      <td>-0.093868</td>\n",
       "    </tr>\n",
       "    <tr>\n",
       "      <th>328</th>\n",
       "      <td>3.840573</td>\n",
       "      <td>18.968620</td>\n",
       "      <td>-0.093868</td>\n",
       "    </tr>\n",
       "    <tr>\n",
       "      <th>329</th>\n",
       "      <td>4.360046</td>\n",
       "      <td>20.435749</td>\n",
       "      <td>-0.093868</td>\n",
       "    </tr>\n",
       "  </tbody>\n",
       "</table>\n",
       "<p>330 rows × 3 columns</p>\n",
       "</div>"
      ],
      "text/plain": [
       "        BaseT     LogGDP    Region\n",
       "0    3.204684  16.337559  0.073971\n",
       "1    3.765634  16.166949  0.233597\n",
       "2    3.629049  19.765188  0.073971\n",
       "3    3.600000  19.650585 -0.086020\n",
       "4    3.361547  16.047546  0.073971\n",
       "..        ...        ...       ...\n",
       "325  3.395585  16.941568 -0.093868\n",
       "326  3.675595  17.732526 -0.093868\n",
       "327  3.144837  16.309429 -0.093868\n",
       "328  3.840573  18.968620 -0.093868\n",
       "329  4.360046  20.435749 -0.093868\n",
       "\n",
       "[330 rows x 3 columns]"
      ]
     },
     "execution_count": 44,
     "metadata": {},
     "output_type": "execute_result"
    }
   ],
   "source": [
    "numeric_dataset = enc.transform(X)\n",
    "numeric_dataset"
   ]
  },
  {
   "cell_type": "code",
   "execution_count": 45,
   "metadata": {},
   "outputs": [],
   "source": [
    "X2 = sm.add_constant(numeric_dataset)\n",
    "est = sm.OLS(y, X2)\n",
    "est2 = est.fit()"
   ]
  },
  {
   "cell_type": "code",
   "execution_count": 47,
   "metadata": {},
   "outputs": [
    {
     "data": {
      "text/html": [
       "<table class=\"simpletable\">\n",
       "<caption>OLS Regression Results</caption>\n",
       "<tr>\n",
       "  <th>Dep. Variable:</th>          <td>NO2T</td>       <th>  R-squared:         </th> <td>   0.602</td>\n",
       "</tr>\n",
       "<tr>\n",
       "  <th>Model:</th>                   <td>OLS</td>       <th>  Adj. R-squared:    </th> <td>   0.598</td>\n",
       "</tr>\n",
       "<tr>\n",
       "  <th>Method:</th>             <td>Least Squares</td>  <th>  F-statistic:       </th> <td>   164.2</td>\n",
       "</tr>\n",
       "<tr>\n",
       "  <th>Date:</th>             <td>Wed, 15 Nov 2023</td> <th>  Prob (F-statistic):</th> <td>7.67e-65</td>\n",
       "</tr>\n",
       "<tr>\n",
       "  <th>Time:</th>                 <td>07:19:19</td>     <th>  Log-Likelihood:    </th> <td>  233.03</td>\n",
       "</tr>\n",
       "<tr>\n",
       "  <th>No. Observations:</th>      <td>   330</td>      <th>  AIC:               </th> <td>  -458.1</td>\n",
       "</tr>\n",
       "<tr>\n",
       "  <th>Df Residuals:</th>          <td>   326</td>      <th>  BIC:               </th> <td>  -442.9</td>\n",
       "</tr>\n",
       "<tr>\n",
       "  <th>Df Model:</th>              <td>     3</td>      <th>                     </th>     <td> </td>   \n",
       "</tr>\n",
       "<tr>\n",
       "  <th>Covariance Type:</th>      <td>nonrobust</td>    <th>                     </th>     <td> </td>   \n",
       "</tr>\n",
       "</table>\n",
       "<table class=\"simpletable\">\n",
       "<tr>\n",
       "     <td></td>       <th>coef</th>     <th>std err</th>      <th>t</th>      <th>P>|t|</th>  <th>[0.025</th>    <th>0.975]</th>  \n",
       "</tr>\n",
       "<tr>\n",
       "  <th>const</th>  <td>    1.3743</td> <td>    0.096</td> <td>   14.349</td> <td> 0.000</td> <td>    1.186</td> <td>    1.563</td>\n",
       "</tr>\n",
       "<tr>\n",
       "  <th>BaseT</th>  <td>    0.4111</td> <td>    0.024</td> <td>   16.877</td> <td> 0.000</td> <td>    0.363</td> <td>    0.459</td>\n",
       "</tr>\n",
       "<tr>\n",
       "  <th>LogGDP</th> <td>   -0.0309</td> <td>    0.005</td> <td>   -5.877</td> <td> 0.000</td> <td>   -0.041</td> <td>   -0.021</td>\n",
       "</tr>\n",
       "<tr>\n",
       "  <th>Region</th> <td>    0.5752</td> <td>    0.081</td> <td>    7.088</td> <td> 0.000</td> <td>    0.416</td> <td>    0.735</td>\n",
       "</tr>\n",
       "</table>\n",
       "<table class=\"simpletable\">\n",
       "<tr>\n",
       "  <th>Omnibus:</th>       <td> 4.530</td> <th>  Durbin-Watson:     </th> <td>   0.484</td>\n",
       "</tr>\n",
       "<tr>\n",
       "  <th>Prob(Omnibus):</th> <td> 0.104</td> <th>  Jarque-Bera (JB):  </th> <td>   5.161</td>\n",
       "</tr>\n",
       "<tr>\n",
       "  <th>Skew:</th>          <td>-0.132</td> <th>  Prob(JB):          </th> <td>  0.0757</td>\n",
       "</tr>\n",
       "<tr>\n",
       "  <th>Kurtosis:</th>      <td> 3.553</td> <th>  Cond. No.          </th> <td>    264.</td>\n",
       "</tr>\n",
       "</table><br/><br/>Notes:<br/>[1] Standard Errors assume that the covariance matrix of the errors is correctly specified."
      ],
      "text/latex": [
       "\\begin{center}\n",
       "\\begin{tabular}{lclc}\n",
       "\\toprule\n",
       "\\textbf{Dep. Variable:}    &       NO2T       & \\textbf{  R-squared:         } &     0.602   \\\\\n",
       "\\textbf{Model:}            &       OLS        & \\textbf{  Adj. R-squared:    } &     0.598   \\\\\n",
       "\\textbf{Method:}           &  Least Squares   & \\textbf{  F-statistic:       } &     164.2   \\\\\n",
       "\\textbf{Date:}             & Wed, 15 Nov 2023 & \\textbf{  Prob (F-statistic):} &  7.67e-65   \\\\\n",
       "\\textbf{Time:}             &     07:19:19     & \\textbf{  Log-Likelihood:    } &    233.03   \\\\\n",
       "\\textbf{No. Observations:} &         330      & \\textbf{  AIC:               } &    -458.1   \\\\\n",
       "\\textbf{Df Residuals:}     &         326      & \\textbf{  BIC:               } &    -442.9   \\\\\n",
       "\\textbf{Df Model:}         &           3      & \\textbf{                     } &             \\\\\n",
       "\\textbf{Covariance Type:}  &    nonrobust     & \\textbf{                     } &             \\\\\n",
       "\\bottomrule\n",
       "\\end{tabular}\n",
       "\\begin{tabular}{lcccccc}\n",
       "                & \\textbf{coef} & \\textbf{std err} & \\textbf{t} & \\textbf{P$> |$t$|$} & \\textbf{[0.025} & \\textbf{0.975]}  \\\\\n",
       "\\midrule\n",
       "\\textbf{const}  &       1.3743  &        0.096     &    14.349  &         0.000        &        1.186    &        1.563     \\\\\n",
       "\\textbf{BaseT}  &       0.4111  &        0.024     &    16.877  &         0.000        &        0.363    &        0.459     \\\\\n",
       "\\textbf{LogGDP} &      -0.0309  &        0.005     &    -5.877  &         0.000        &       -0.041    &       -0.021     \\\\\n",
       "\\textbf{Region} &       0.5752  &        0.081     &     7.088  &         0.000        &        0.416    &        0.735     \\\\\n",
       "\\bottomrule\n",
       "\\end{tabular}\n",
       "\\begin{tabular}{lclc}\n",
       "\\textbf{Omnibus:}       &  4.530 & \\textbf{  Durbin-Watson:     } &    0.484  \\\\\n",
       "\\textbf{Prob(Omnibus):} &  0.104 & \\textbf{  Jarque-Bera (JB):  } &    5.161  \\\\\n",
       "\\textbf{Skew:}          & -0.132 & \\textbf{  Prob(JB):          } &   0.0757  \\\\\n",
       "\\textbf{Kurtosis:}      &  3.553 & \\textbf{  Cond. No.          } &     264.  \\\\\n",
       "\\bottomrule\n",
       "\\end{tabular}\n",
       "%\\caption{OLS Regression Results}\n",
       "\\end{center}\n",
       "\n",
       "Notes: \\newline\n",
       " [1] Standard Errors assume that the covariance matrix of the errors is correctly specified."
      ],
      "text/plain": [
       "<class 'statsmodels.iolib.summary.Summary'>\n",
       "\"\"\"\n",
       "                            OLS Regression Results                            \n",
       "==============================================================================\n",
       "Dep. Variable:                   NO2T   R-squared:                       0.602\n",
       "Model:                            OLS   Adj. R-squared:                  0.598\n",
       "Method:                 Least Squares   F-statistic:                     164.2\n",
       "Date:                Wed, 15 Nov 2023   Prob (F-statistic):           7.67e-65\n",
       "Time:                        07:19:19   Log-Likelihood:                 233.03\n",
       "No. Observations:                 330   AIC:                            -458.1\n",
       "Df Residuals:                     326   BIC:                            -442.9\n",
       "Df Model:                           3                                         \n",
       "Covariance Type:            nonrobust                                         \n",
       "==============================================================================\n",
       "                 coef    std err          t      P>|t|      [0.025      0.975]\n",
       "------------------------------------------------------------------------------\n",
       "const          1.3743      0.096     14.349      0.000       1.186       1.563\n",
       "BaseT          0.4111      0.024     16.877      0.000       0.363       0.459\n",
       "LogGDP        -0.0309      0.005     -5.877      0.000      -0.041      -0.021\n",
       "Region         0.5752      0.081      7.088      0.000       0.416       0.735\n",
       "==============================================================================\n",
       "Omnibus:                        4.530   Durbin-Watson:                   0.484\n",
       "Prob(Omnibus):                  0.104   Jarque-Bera (JB):                5.161\n",
       "Skew:                          -0.132   Prob(JB):                       0.0757\n",
       "Kurtosis:                       3.553   Cond. No.                         264.\n",
       "==============================================================================\n",
       "\n",
       "Notes:\n",
       "[1] Standard Errors assume that the covariance matrix of the errors is correctly specified.\n",
       "\"\"\""
      ]
     },
     "execution_count": 47,
     "metadata": {},
     "output_type": "execute_result"
    }
   ],
   "source": [
    "est2.summary()"
   ]
  },
  {
   "cell_type": "code",
   "execution_count": 21,
   "metadata": {},
   "outputs": [],
   "source": [
    "from sklearn import linear_model\n",
    "\n",
    "def calculate_stats(dataframe):\n",
    "    dataframe['Predicted']=np.exp(predicted)\n",
    "    dataframe['Actual']= np.exp(actual)\n",
    "    dataframe['pc_dif']=100*(dataframe.Actual-dataframe.Predicted)/dataframe.Actual\n",
    "    dataframe['abs_dif']= dataframe['pc_dif'].abs()\n",
    "    dataframe['Residuals']= dataframe.Actual-dataframe.Predicted\n",
    "\n",
    "\n",
    "regr = linear_model.LinearRegression(fit_intercept=True)\n",
    "regr.fit(numeric_dataset, y)\n",
    "coef = regr.coef_\n",
    "#coef = np.polyfit(x, y, z, 1)\n",
    "inter = regr.intercept_\n",
    "actual = []\n",
    "predicted = []\n",
    "for ind in range(len(numeric_dataset)):\n",
    "    actual.append(y.iloc[ind])\n",
    "    predicted.append(sum([coef[i]*numeric_dataset.iloc[ind][i] for i in range(len(coef))])+inter)\n",
    "    \n",
    "\n",
    "##predicted is predicted NO2/capita\n",
    "calculate_stats(merge)\n"
   ]
  },
  {
   "cell_type": "code",
   "execution_count": 48,
   "metadata": {},
   "outputs": [
    {
     "data": {
      "text/plain": [
       "BaseT     0.674923\n",
       "LogGDP   -0.226470\n",
       "Region    0.269379\n",
       "dtype: float64"
      ]
     },
     "execution_count": 48,
     "metadata": {},
     "output_type": "execute_result"
    }
   ],
   "source": [
    "from scipy.stats.mstats import zscore\n",
    "zx =zscore(numeric_dataset)\n",
    "zy = zscore(y)\n",
    "#zx2 = sm.add_constant(zx)\n",
    "model = sm.OLS(zy,zx)\n",
    "results = model.fit()\n",
    "results.params"
   ]
  },
  {
   "cell_type": "code",
   "execution_count": 23,
   "metadata": {},
   "outputs": [],
   "source": [
    "pcap=msa_full.merge(gdp,how='right',on='CityCountry')"
   ]
  },
  {
   "cell_type": "code",
   "execution_count": 24,
   "metadata": {},
   "outputs": [],
   "source": [
    "pcap['Base_PerCapita']=pcap['2010_y']/pcap['2010_x']\n",
    "pcap['PerCapita']=pcap['2019_y']/pcap['2019_x']"
   ]
  },
  {
   "cell_type": "code",
   "execution_count": 25,
   "metadata": {},
   "outputs": [],
   "source": [
    "pcap.set_index('CityCountry',inplace=True)"
   ]
  },
  {
   "cell_type": "code",
   "execution_count": 26,
   "metadata": {},
   "outputs": [],
   "source": [
    "merge['PerCapita']=pcap['PerCapita']"
   ]
  },
  {
   "cell_type": "code",
   "execution_count": 27,
   "metadata": {},
   "outputs": [],
   "source": [
    "merge['ConcPercChange']=100*(merge.NO2-merge.Base_NO2)/merge.Base_NO2"
   ]
  },
  {
   "cell_type": "code",
   "execution_count": 257,
   "metadata": {},
   "outputs": [
    {
     "data": {
      "text/plain": [
       "Index([    'Memberships',       'continent',            'Year',\n",
       "                  'City',         'Country',        'Latitude',\n",
       "             'Longitude',      'Population',             'NO2',\n",
       "                'Pw_NO2',         'PAF_NO2',       'Cases_NO2',\n",
       "             'Rates_NO2',         'Pop_ped',       'city_area',\n",
       "             'NAME_LIST',           'Slope',           'index',\n",
       "                    2010,              2019,        'Base_GDP',\n",
       "                   'GDP',        'Base_NO2', 'Base_Population',\n",
       "                  'NO2T',          'BaseT0',          'LogGDP',\n",
       "                 'State',          'Region',           'BaseT',\n",
       "             'Predicted',          'Actual',          'pc_dif',\n",
       "               'abs_dif',       'Residuals',       'PerCapita',\n",
       "        'ConcPercChange'],\n",
       "      dtype='object')"
      ]
     },
     "execution_count": 257,
     "metadata": {},
     "output_type": "execute_result"
    }
   ],
   "source": [
    "merge.columns"
   ]
  },
  {
   "cell_type": "code",
   "execution_count": 28,
   "metadata": {},
   "outputs": [],
   "source": [
    "import pandas as pd\n",
    "\n",
    "# Sample air quality data (replace this with your own data)\n",
    "plot = merge\n",
    "\n",
    "# Define weights for each metric (adjust these weights as needed)\n",
    "metrics = {'ConcPercChange':'ConcChange','Slope':'slope','Residuals':'resid'}\n",
    "\n",
    "# Normalize the data using min-max scaling\n",
    "for metric in metrics:\n",
    "    min_val = plot[metric].min()\n",
    "    max_val = plot[metric].max()\n",
    "    plot[metrics[metric] + '_Score'] = (plot[metric] - min_val) / (max_val - min_val)\n",
    "\n",
    "# Calculate scores for each city\n",
    "\n",
    "# Calculate total scores for each city\n",
    "plot['Total_Score'] = plot[['ConcChange_Score', 'slope_Score','resid_Score']].sum(axis=1)/3\n",
    "\n",
    "# Rank cities based on total scores\n",
    "plot = plot.sort_values(by='Total_Score', ascending=False)"
   ]
  },
  {
   "cell_type": "code",
   "execution_count": 30,
   "metadata": {},
   "outputs": [],
   "source": [
    "import seaborn as sns\n",
    "import matplotlib.pyplot as plt"
   ]
  },
  {
   "cell_type": "code",
   "execution_count": 64,
   "metadata": {},
   "outputs": [
    {
     "data": {
      "text/plain": [
       "(0.95381595, 0.46373781, 0.31769923)"
      ]
     },
     "execution_count": 64,
     "metadata": {},
     "output_type": "execute_result"
    }
   ],
   "source": [
    "bins = list(plot['PerCapita'].quantile([0,0.25,.5,0.75,1]))\n",
    "plot['GDPBins']=pd.cut(plot['PerCapita'], bins=bins, include_lowest=True)\n",
    "palette = sns.color_palette(\"rocket_r\")\n",
    "palette.pop(4)\n",
    "palette.pop(1)"
   ]
  },
  {
   "cell_type": "code",
   "execution_count": 32,
   "metadata": {},
   "outputs": [
    {
     "data": {
      "text/plain": [
       "CityCountry\n",
       "Albany, United States (988)             393.911876\n",
       "Schenectady, United States (986)        393.911876\n",
       "Troy, United States (997)               393.911876\n",
       "Jacksonville, United States (598)       389.958275\n",
       "Portland, United States (101)           284.482080\n",
       "                                           ...    \n",
       "Lake Havasu City, United States (72)     24.015524\n",
       "Brownsville, United States (246)         23.803078\n",
       "McAllen, United States (239)             22.946502\n",
       "Ames, United States (482)                22.167862\n",
       "Portland, United States (1050)           11.959000\n",
       "Name: PerCapita, Length: 330, dtype: float64"
      ]
     },
     "execution_count": 32,
     "metadata": {},
     "output_type": "execute_result"
    }
   ],
   "source": [
    "plot.PerCapita.sort_values(ascending=False)"
   ]
  },
  {
   "cell_type": "code",
   "execution_count": 41,
   "metadata": {},
   "outputs": [],
   "source": [
    "plot['PopChange']=plot.Population-plot.Base_Population\n",
    "\n",
    "bins = list(plot['PopChange'].quantile([0,0.25,.5,0.75,1]))\n",
    "plot['PopChangeBins']=pd.cut(plot['PopChange'], bins=bins)"
   ]
  },
  {
   "cell_type": "code",
   "execution_count": 50,
   "metadata": {},
   "outputs": [],
   "source": [
    "import seaborn as sns"
   ]
  },
  {
   "cell_type": "code",
   "execution_count": 58,
   "metadata": {},
   "outputs": [],
   "source": [
    "import matplotlib.pyplot as plt"
   ]
  },
  {
   "cell_type": "code",
   "execution_count": 72,
   "metadata": {},
   "outputs": [
    {
     "name": "stdout",
     "output_type": "stream",
     "text": [
      "Rate of Change\n",
      "% Change Concentration\n",
      "Regression Residual\n"
     ]
    },
    {
     "data": {
      "image/png": "[encoded data removed]",
      "text/plain": [
       "<Figure size 953.722x440 with 3 Axes>"
      ]
     },
     "metadata": {},
     "output_type": "display_data"
    }
   ],
   "source": [
    "sns.set(font_scale=1)\n",
    "sns.set_theme(style='white')\n",
    "hue_order = ['0.10','0.25','0.50','0.75','0.90','1.00','NA']\n",
    "splot = plot.head(20).copy().reset_index()\n",
    "#splot['City']=splot.CityCountry.str.split(',',expand=True)[0]\n",
    "g = sns.PairGrid(splot,hue= 'GDPBins',#hue_order=hue_order,palette='crest',\n",
    "                 x_vars=['Slope','ConcPercChange',\"Residuals\"], y_vars=[\"City\"],\n",
    "                 height=len(splot)/10*2.2, aspect=11.5/len(splot),palette=palette )\n",
    "\n",
    "# Draw a dot plot using the stripplot function\n",
    "g.map(sns.stripplot, size=10,orient=\"h\", jitter=False,palette=palette,\n",
    "      linewidth=0.7, edgecolor=\"black\")\n",
    "\n",
    "# Use the same x axis limits on all columns and add better labels\n",
    "g.set(ylabel= 'US Laggards')\n",
    "#g.set(xlim=(0, 25), xlabel=\"Crashes\", ylabel=\"\")\n",
    "g.add_legend(title='Per Capita GDP Quartile')\n",
    "new_labels = ['Q1','Q2','Q3','Q4']\n",
    "for t, l in zip(g._legend.texts, new_labels):\n",
    "    t.set_text(l)\n",
    "#g.legend(labels = ['Q1','Q2','Q3','Q4'])\n",
    "#g.tight_layout()\n",
    "# Use semantically meaningful titles for the columns\n",
    "titles = [\"Rate of Change\",\"% Change Concentration\", \"Regression Residual\"]\n",
    "         # \"County GDP\",\"Population Change\"]\n",
    "xlabels = {'ΔNO2 (ppb/yr)':(-0.2,0.3),'% ':(-8,35),'NO2 (ppb)':(0.5,4.5),}\n",
    "\n",
    "\n",
    "for ax, title, xlabel in zip(g.axes.flat, titles ,xlabels):\n",
    "    print(title)\n",
    "    # Set a different title for each axes\n",
    "    ax.set(title=title, xlabel=xlabel,xlim=xlabels[xlabel])\n",
    "\n",
    "    # Make the grid horizontal instead of vertical\n",
    "    ax.xaxis.grid(False)\n",
    "    ax.yaxis.grid(True)\n",
    "\n",
    "\n",
    "sns.despine(left=True, bottom=True)\n",
    "plt.savefig(output_dir+'/CitiesStripPlot_bottom20_SlopePopChange.png',bbox_inches='tight',dpi=200)"
   ]
  },
  {
   "cell_type": "code",
   "execution_count": 90,
   "metadata": {},
   "outputs": [
    {
     "name": "stdout",
     "output_type": "stream",
     "text": [
      "Rate of Change\n",
      "% Change Concentration\n",
      "Regression Residual\n"
     ]
    },
    {
     "data": {
      "image/png": "[encoded data removed]",
      "text/plain": [
       "<Figure size 953.722x440 with 3 Axes>"
      ]
     },
     "metadata": {},
     "output_type": "display_data"
    }
   ],
   "source": [
    "# Make the PairGrid\n",
    "#palette = sns.color_palette(\"rocket_r\")\n",
    "#palette.append(\"0.7\")\n",
    "#sns.set_style(\"darkgrid\")\n",
    "\n",
    "sns.set(font_scale=1)\n",
    "sns.set_theme(style='white')\n",
    "#hue_order = ['0.10','0.25','0.50','0.75','0.90','1.00','NA']\n",
    "splot = plot.tail(20).copy().reset_index()\n",
    "#splot['City']=splot.CityCountry.str.split(',',expand=True)[0]\n",
    "g = sns.PairGrid(splot.sort_values(by='Total_Score',ascending=True),hue= 'GDPBins',#hue_order=hue_order,palette='crest',\n",
    "                 x_vars=['Slope','ConcPercChange',\"Residuals\"], y_vars=[\"City\"],\n",
    "                 height=len(splot)/10*2.2, aspect=11.5/len(splot),palette=palette )\n",
    "\n",
    "# Draw a dot plot using the stripplot function\n",
    "g.map(sns.stripplot, size=10,orient=\"h\", jitter=False,palette=palette,\n",
    "      linewidth=0.7, edgecolor=\"0.5\")\n",
    "\n",
    "# Use the same x axis limits on all columns and add better labels\n",
    "g.set(ylabel= 'US Leaders')\n",
    "#g.set(xlim=(0, 25), xlabel=\"Crashes\", ylabel=\"\")\n",
    "g.add_legend(title='Per Capita GDP Quartile')\n",
    "#g.tight_layout()\n",
    "new_labels = ['Q1','Q2','Q3','Q4']\n",
    "for t, l in zip(g._legend.texts, new_labels):\n",
    "    t.set_text(l)\n",
    "# Use semantically meaningful titles for the columns\n",
    "titles = [\"Rate of Change\",\"% Change Concentration\", \"Regression Residual\"]\n",
    "         # \"County GDP\",\"Population Change\"]\n",
    "xlabels = {'ΔNO2 (ppb/yr)':(-1,-.3),'% ':(-47,-32),'NO2 (ppb)':(-3,0),}\n",
    "\n",
    "tt={\"Rate of Change\":np.arange(-1,-0.31,0.15),\"% Change Concentration\": np.arange(-44,-32,3), \"Regression Residual\":np.arange(-2,0.1,1)}\n",
    "\n",
    "\n",
    "for ax, title, xlabel in zip(g.axes.flat, titles ,xlabels):\n",
    "    print(title)\n",
    "    # Set a different title for each axes\n",
    "    ax.set_xticks(ticks =tt[title],rotation=70)\n",
    "    ax.set(title=title, xlabel=xlabel,xlim=xlabels[xlabel])\n",
    "    labels = ax.get_xticklabels()\n",
    "    plt.setp(labels, rotation=45, horizontalalignment='right')\n",
    "    # Make the grid horizontal instead of vertical\n",
    "    ax.xaxis.grid(True, linestyle='--')\n",
    "    ax.yaxis.grid(True, color='0.5')\n",
    "\n",
    "plt.subplots_adjust(hspace=-0.1, wspace=0)#\n",
    "#sns.despine(left=True, bottom=True)\n",
    "plt.savefig(output_dir+'/CitiesStripPlot_top20_SlopePopChange.png',bbox_inches='tight',dpi=200)"
   ]
  },
  {
   "cell_type": "code",
   "execution_count": 45,
   "metadata": {},
   "outputs": [],
   "source": [
    "plot['Base_PerCapita']=pcap['Base_PerCapita']"
   ]
  },
  {
   "cell_type": "code",
   "execution_count": 46,
   "metadata": {},
   "outputs": [],
   "source": [
    "plot.to_csv('Inputs/US_LeadersLaggards_ds.csv')"
   ]
  },
  {
   "cell_type": "code",
   "execution_count": 7,
   "metadata": {},
   "outputs": [],
   "source": [
    "plot=pd.read_csv('Inputs/US_LeadersLaggards_ds.csv')"
   ]
  },
  {
   "cell_type": "code",
   "execution_count": 20,
   "metadata": {},
   "outputs": [],
   "source": [
    "plot.set_index('CityCountry',inplace=True)\n",
    "plot['Base_Pop_ped']=us_10.Pop_ped"
   ]
  },
  {
   "cell_type": "code",
   "execution_count": 18,
   "metadata": {},
   "outputs": [],
   "source": [
    "def calculate_af(no2, rr=1.26):\n",
    "    \"\"\"Calculate the fraction of asthma burden attributable to NO2 \n",
    "    concentrations (i.e., the attributable fraction = AF) based on the     \n",
    "    concentration-response factor (from the meta-analysis of epidemiological \n",
    "    studies) and gridded average NO2 concentrations. \n",
    "    \n",
    "    Parameters\n",
    "    ----------\n",
    "    no2 : numpy.ndarray\n",
    "        NO2 concentrations, units of ppb, [lat, lng]\n",
    "    rr : float\n",
    "        Relative risk (e.g., 1.26 (1.10-1.37) per 10 ppb)\n",
    "\n",
    "    Returns\n",
    "    -------\n",
    "    af : numpy.ndarray\n",
    "    New paediatric asthma cases attributable to NO2, units of percent, \n",
    "    [lat, lng]\n",
    "    \n",
    "    References\n",
    "    ----------\n",
    "    P. Achakulwisut, M. Brauer, P. Hystad, S. C. Anenberg, Global, national, \n",
    "        and urban burdens of paediatric asthma incidence attributable to \n",
    "        ambient NO2 pollution: estimates from global datasets. The Lancet \n",
    "        Planetary Health 3, e166–e178 (2019).\n",
    "    S. C. Anenberg, L. W. Horowitz, D. Q. Tong, J. J. West, An Estimate of the \n",
    "        Global Burden of Anthropogenic Ozone and Fine Particulate Matter on \n",
    "        Premature Human Mortality Using Atmospheric Modeling. Environmental \n",
    "        Health Perspectives 118, 1189–1195 (2010).\n",
    "    H. Khreis, et al., Exposure to traffic-related air pollution and risk of \n",
    "        development of childhood asthma: A systematic review and meta-\n",
    "        analysis. Environment International 100, 1–31 (2017).        \n",
    "    \"\"\"\n",
    "    import numpy as np\n",
    "    # This the concentration-response factor of 1.26 (1.10 - 1.37) per 10 \n",
    "    # ppb is used in Achakulwisut et al. (2019) and taken from Khreis et al. \n",
    "    # (2017). Note that this \"log-linear\"  relationship comes from \n",
    "    # epidemiological studies that log-transform concentration before \n",
    "    # regressing with incidence of health outcome (where log is the natural \n",
    "    # logarithm). Additional details can be found in Anenberg et al. (2010)\n",
    "    beta = np.log(rr)/10.\n",
    "    af = (1-np.exp(-beta*no2))\n",
    "    return af \n"
   ]
  },
  {
   "cell_type": "code",
   "execution_count": 24,
   "metadata": {},
   "outputs": [],
   "source": [
    "us_state_to_abbrev = {\n",
    "    \"Alabama\": \"AL\",\n",
    "    \"Alaska\": \"AK\",\n",
    "    \"Arizona\": \"AZ\",\n",
    "    \"Arkansas\": \"AR\",\n",
    "    \"California\": \"CA\",\n",
    "    \"Colorado\": \"CO\",\n",
    "    \"Connecticut\": \"CT\",\n",
    "    \"Delaware\": \"DE\",\n",
    "    \"Florida\": \"FL\",\n",
    "    \"Georgia\": \"GA\",\n",
    "    \"Hawaii\": \"HI\",\n",
    "    \"Idaho\": \"ID\",\n",
    "    \"Illinois\": \"IL\",\n",
    "    \"Indiana\": \"IN\",\n",
    "    \"Iowa\": \"IA\",\n",
    "    \"Kansas\": \"KS\",\n",
    "    \"Kentucky\": \"KY\",\n",
    "    \"Louisiana\": \"LA\",\n",
    "    \"Maine\": \"ME\",\n",
    "    \"Maryland\": \"MD\",\n",
    "    \"Massachusetts\": \"MA\",\n",
    "    \"Michigan\": \"MI\",\n",
    "    \"Minnesota\": \"MN\",\n",
    "    \"Mississippi\": \"MS\",\n",
    "    \"Missouri\": \"MO\",\n",
    "    \"Montana\": \"MT\",\n",
    "    \"Nebraska\": \"NE\",\n",
    "    \"Nevada\": \"NV\",\n",
    "    \"New Hampshire\": \"NH\",\n",
    "    \"New Jersey\": \"NJ\",\n",
    "    \"New Mexico\": \"NM\",\n",
    "    \"New York\": \"NY\",\n",
    "    \"North Carolina\": \"NC\",\n",
    "    \"North Dakota\": \"ND\",\n",
    "    \"Ohio\": \"OH\",\n",
    "    \"Oklahoma\": \"OK\",\n",
    "    \"Oregon\": \"OR\",\n",
    "    \"Pennsylvania\": \"PA\",\n",
    "    \"Rhode Island\": \"RI\",\n",
    "    \"South Carolina\": \"SC\",\n",
    "    \"South Dakota\": \"SD\",\n",
    "    \"Tennessee\": \"TN\",\n",
    "    \"Texas\": \"TX\",\n",
    "    \"Utah\": \"UT\",\n",
    "    \"Vermont\": \"VT\",\n",
    "    \"Virginia\": \"VA\",\n",
    "    \"Washington\": \"WA\",\n",
    "    \"West Virginia\": \"WV\",\n",
    "    \"Wisconsin\": \"WI\",\n",
    "    \"Wyoming\": \"WY\",\n",
    "    \"District of Columbia\": \"DC\",\n",
    "    \"American Samoa\": \"AS\",\n",
    "    \"Guam\": \"GU\",\n",
    "    \"Northern Mariana Islands\": \"MP\",\n",
    "    \"Puerto Rico\": \"PR\",\n",
    "    \"United States Minor Outlying Islands\": \"UM\",\n",
    "    \"U.S. Virgin Islands\": \"VI\",\n",
    "}"
   ]
  },
  {
   "cell_type": "code",
   "execution_count": 26,
   "metadata": {},
   "outputs": [
    {
     "data": {
      "text/html": [
       "<div>\n",
       "<style scoped>\n",
       "    .dataframe tbody tr th:only-of-type {\n",
       "        vertical-align: middle;\n",
       "    }\n",
       "\n",
       "    .dataframe tbody tr th {\n",
       "        vertical-align: top;\n",
       "    }\n",
       "\n",
       "    .dataframe thead th {\n",
       "        text-align: right;\n",
       "    }\n",
       "</style>\n",
       "<table border=\"1\" class=\"dataframe\">\n",
       "  <thead>\n",
       "    <tr style=\"text-align: right;\">\n",
       "      <th></th>\n",
       "      <th>measure_id</th>\n",
       "      <th>measure_name</th>\n",
       "      <th>location_id</th>\n",
       "      <th>location_name</th>\n",
       "      <th>sex_id</th>\n",
       "      <th>sex_name</th>\n",
       "      <th>age_id</th>\n",
       "      <th>age_name</th>\n",
       "      <th>cause_id</th>\n",
       "      <th>cause_name</th>\n",
       "      <th>metric_id</th>\n",
       "      <th>metric_name</th>\n",
       "      <th>year</th>\n",
       "      <th>val</th>\n",
       "      <th>upper</th>\n",
       "      <th>lower</th>\n",
       "    </tr>\n",
       "  </thead>\n",
       "  <tbody>\n",
       "    <tr>\n",
       "      <th>0</th>\n",
       "      <td>6</td>\n",
       "      <td>Incidence</td>\n",
       "      <td>558</td>\n",
       "      <td>OH</td>\n",
       "      <td>3</td>\n",
       "      <td>Both</td>\n",
       "      <td>158</td>\n",
       "      <td>&lt;20 years</td>\n",
       "      <td>515</td>\n",
       "      <td>Asthma</td>\n",
       "      <td>3</td>\n",
       "      <td>Rate</td>\n",
       "      <td>2000</td>\n",
       "      <td>1998.168250</td>\n",
       "      <td>2643.602497</td>\n",
       "      <td>1406.165899</td>\n",
       "    </tr>\n",
       "    <tr>\n",
       "      <th>1</th>\n",
       "      <td>6</td>\n",
       "      <td>Incidence</td>\n",
       "      <td>558</td>\n",
       "      <td>OH</td>\n",
       "      <td>3</td>\n",
       "      <td>Both</td>\n",
       "      <td>158</td>\n",
       "      <td>&lt;20 years</td>\n",
       "      <td>515</td>\n",
       "      <td>Asthma</td>\n",
       "      <td>3</td>\n",
       "      <td>Rate</td>\n",
       "      <td>2001</td>\n",
       "      <td>2005.219259</td>\n",
       "      <td>2656.911542</td>\n",
       "      <td>1421.617358</td>\n",
       "    </tr>\n",
       "    <tr>\n",
       "      <th>2</th>\n",
       "      <td>6</td>\n",
       "      <td>Incidence</td>\n",
       "      <td>558</td>\n",
       "      <td>OH</td>\n",
       "      <td>3</td>\n",
       "      <td>Both</td>\n",
       "      <td>158</td>\n",
       "      <td>&lt;20 years</td>\n",
       "      <td>515</td>\n",
       "      <td>Asthma</td>\n",
       "      <td>3</td>\n",
       "      <td>Rate</td>\n",
       "      <td>2002</td>\n",
       "      <td>2018.003306</td>\n",
       "      <td>2682.499705</td>\n",
       "      <td>1437.735363</td>\n",
       "    </tr>\n",
       "    <tr>\n",
       "      <th>3</th>\n",
       "      <td>6</td>\n",
       "      <td>Incidence</td>\n",
       "      <td>558</td>\n",
       "      <td>OH</td>\n",
       "      <td>3</td>\n",
       "      <td>Both</td>\n",
       "      <td>158</td>\n",
       "      <td>&lt;20 years</td>\n",
       "      <td>515</td>\n",
       "      <td>Asthma</td>\n",
       "      <td>3</td>\n",
       "      <td>Rate</td>\n",
       "      <td>2003</td>\n",
       "      <td>2033.140734</td>\n",
       "      <td>2705.427557</td>\n",
       "      <td>1454.390425</td>\n",
       "    </tr>\n",
       "    <tr>\n",
       "      <th>4</th>\n",
       "      <td>6</td>\n",
       "      <td>Incidence</td>\n",
       "      <td>558</td>\n",
       "      <td>OH</td>\n",
       "      <td>3</td>\n",
       "      <td>Both</td>\n",
       "      <td>158</td>\n",
       "      <td>&lt;20 years</td>\n",
       "      <td>515</td>\n",
       "      <td>Asthma</td>\n",
       "      <td>3</td>\n",
       "      <td>Rate</td>\n",
       "      <td>2004</td>\n",
       "      <td>2052.153345</td>\n",
       "      <td>2719.071623</td>\n",
       "      <td>1472.919777</td>\n",
       "    </tr>\n",
       "    <tr>\n",
       "      <th>...</th>\n",
       "      <td>...</td>\n",
       "      <td>...</td>\n",
       "      <td>...</td>\n",
       "      <td>...</td>\n",
       "      <td>...</td>\n",
       "      <td>...</td>\n",
       "      <td>...</td>\n",
       "      <td>...</td>\n",
       "      <td>...</td>\n",
       "      <td>...</td>\n",
       "      <td>...</td>\n",
       "      <td>...</td>\n",
       "      <td>...</td>\n",
       "      <td>...</td>\n",
       "      <td>...</td>\n",
       "      <td>...</td>\n",
       "    </tr>\n",
       "    <tr>\n",
       "      <th>1015</th>\n",
       "      <td>6</td>\n",
       "      <td>Incidence</td>\n",
       "      <td>572</td>\n",
       "      <td>WI</td>\n",
       "      <td>3</td>\n",
       "      <td>Both</td>\n",
       "      <td>158</td>\n",
       "      <td>&lt;20 years</td>\n",
       "      <td>515</td>\n",
       "      <td>Asthma</td>\n",
       "      <td>3</td>\n",
       "      <td>Rate</td>\n",
       "      <td>2015</td>\n",
       "      <td>2241.892769</td>\n",
       "      <td>2778.520837</td>\n",
       "      <td>1677.201050</td>\n",
       "    </tr>\n",
       "    <tr>\n",
       "      <th>1016</th>\n",
       "      <td>6</td>\n",
       "      <td>Incidence</td>\n",
       "      <td>572</td>\n",
       "      <td>WI</td>\n",
       "      <td>3</td>\n",
       "      <td>Both</td>\n",
       "      <td>158</td>\n",
       "      <td>&lt;20 years</td>\n",
       "      <td>515</td>\n",
       "      <td>Asthma</td>\n",
       "      <td>3</td>\n",
       "      <td>Rate</td>\n",
       "      <td>2016</td>\n",
       "      <td>2239.523810</td>\n",
       "      <td>2810.815551</td>\n",
       "      <td>1673.507232</td>\n",
       "    </tr>\n",
       "    <tr>\n",
       "      <th>1017</th>\n",
       "      <td>6</td>\n",
       "      <td>Incidence</td>\n",
       "      <td>572</td>\n",
       "      <td>WI</td>\n",
       "      <td>3</td>\n",
       "      <td>Both</td>\n",
       "      <td>158</td>\n",
       "      <td>&lt;20 years</td>\n",
       "      <td>515</td>\n",
       "      <td>Asthma</td>\n",
       "      <td>3</td>\n",
       "      <td>Rate</td>\n",
       "      <td>2017</td>\n",
       "      <td>2240.727595</td>\n",
       "      <td>2875.676519</td>\n",
       "      <td>1667.425660</td>\n",
       "    </tr>\n",
       "    <tr>\n",
       "      <th>1018</th>\n",
       "      <td>6</td>\n",
       "      <td>Incidence</td>\n",
       "      <td>572</td>\n",
       "      <td>WI</td>\n",
       "      <td>3</td>\n",
       "      <td>Both</td>\n",
       "      <td>158</td>\n",
       "      <td>&lt;20 years</td>\n",
       "      <td>515</td>\n",
       "      <td>Asthma</td>\n",
       "      <td>3</td>\n",
       "      <td>Rate</td>\n",
       "      <td>2018</td>\n",
       "      <td>2274.922298</td>\n",
       "      <td>2902.046952</td>\n",
       "      <td>1658.991070</td>\n",
       "    </tr>\n",
       "    <tr>\n",
       "      <th>1019</th>\n",
       "      <td>6</td>\n",
       "      <td>Incidence</td>\n",
       "      <td>572</td>\n",
       "      <td>WI</td>\n",
       "      <td>3</td>\n",
       "      <td>Both</td>\n",
       "      <td>158</td>\n",
       "      <td>&lt;20 years</td>\n",
       "      <td>515</td>\n",
       "      <td>Asthma</td>\n",
       "      <td>3</td>\n",
       "      <td>Rate</td>\n",
       "      <td>2019</td>\n",
       "      <td>2347.391920</td>\n",
       "      <td>3007.490795</td>\n",
       "      <td>1697.617467</td>\n",
       "    </tr>\n",
       "  </tbody>\n",
       "</table>\n",
       "<p>1020 rows × 16 columns</p>\n",
       "</div>"
      ],
      "text/plain": [
       "      measure_id measure_name  location_id location_name  sex_id sex_name  \\\n",
       "0              6    Incidence          558            OH       3     Both   \n",
       "1              6    Incidence          558            OH       3     Both   \n",
       "2              6    Incidence          558            OH       3     Both   \n",
       "3              6    Incidence          558            OH       3     Both   \n",
       "4              6    Incidence          558            OH       3     Both   \n",
       "...          ...          ...          ...           ...     ...      ...   \n",
       "1015           6    Incidence          572            WI       3     Both   \n",
       "1016           6    Incidence          572            WI       3     Both   \n",
       "1017           6    Incidence          572            WI       3     Both   \n",
       "1018           6    Incidence          572            WI       3     Both   \n",
       "1019           6    Incidence          572            WI       3     Both   \n",
       "\n",
       "      age_id   age_name  cause_id cause_name  metric_id metric_name  year  \\\n",
       "0        158  <20 years       515     Asthma          3        Rate  2000   \n",
       "1        158  <20 years       515     Asthma          3        Rate  2001   \n",
       "2        158  <20 years       515     Asthma          3        Rate  2002   \n",
       "3        158  <20 years       515     Asthma          3        Rate  2003   \n",
       "4        158  <20 years       515     Asthma          3        Rate  2004   \n",
       "...      ...        ...       ...        ...        ...         ...   ...   \n",
       "1015     158  <20 years       515     Asthma          3        Rate  2015   \n",
       "1016     158  <20 years       515     Asthma          3        Rate  2016   \n",
       "1017     158  <20 years       515     Asthma          3        Rate  2017   \n",
       "1018     158  <20 years       515     Asthma          3        Rate  2018   \n",
       "1019     158  <20 years       515     Asthma          3        Rate  2019   \n",
       "\n",
       "              val        upper        lower  \n",
       "0     1998.168250  2643.602497  1406.165899  \n",
       "1     2005.219259  2656.911542  1421.617358  \n",
       "2     2018.003306  2682.499705  1437.735363  \n",
       "3     2033.140734  2705.427557  1454.390425  \n",
       "4     2052.153345  2719.071623  1472.919777  \n",
       "...           ...          ...          ...  \n",
       "1015  2241.892769  2778.520837  1677.201050  \n",
       "1016  2239.523810  2810.815551  1673.507232  \n",
       "1017  2240.727595  2875.676519  1667.425660  \n",
       "1018  2274.922298  2902.046952  1658.991070  \n",
       "1019  2347.391920  3007.490795  1697.617467  \n",
       "\n",
       "[1020 rows x 16 columns]"
      ]
     },
     "execution_count": 26,
     "metadata": {},
     "output_type": "execute_result"
    }
   ],
   "source": [
    "asthma= pd.read_csv('Inputs/asthmaincidence/IHME-GBD_2019_DATA-bd31445e-1.csv')\n",
    "asthma['location_name']=asthma.location_name.replace(us_state_to_abbrev)\n",
    "asthma"
   ]
  },
  {
   "cell_type": "code",
   "execution_count": 27,
   "metadata": {},
   "outputs": [],
   "source": [
    "plot=plot.merge(asthma.query('year==2010')[['location_name','val']],how='left',left_on='State',right_on='location_name').drop_duplicates().rename(columns={'val':'asthma_2010'})\n",
    "plot=plot.merge(asthma.query('year==2019')[['location_name','val']],how='left',left_on='State',right_on='location_name').drop_duplicates().rename(columns={'val':'asthma_2019'})"
   ]
  },
  {
   "cell_type": "code",
   "execution_count": 30,
   "metadata": {},
   "outputs": [],
   "source": [
    "plot['ActualAF']=plot.Actual.apply(calculate_af)\n",
    "plot['PredictedAF']=plot.Predicted.apply(calculate_af)\n",
    "plot['BaseAF'] =plot.Base_NO2.apply(calculate_af)\n",
    "plot['Actual_Cases'] = plot.ActualAF*(plot.asthma_2019/1e5)*plot.Pop_ped\n",
    "plot['Predicted_Cases'] = plot.PredictedAF*(plot.asthma_2019/1e5)*plot.Pop_ped\n",
    "plot['Base_Cases'] = plot.BaseAF*(plot.asthma_2010/1e5)*plot.Base_Pop_ped\n",
    "plot['Cases_Residual']=plot.Actual_Cases-plot.Predicted_Cases\n",
    "plot['Rates_Residual'] = plot['Cases_Residual']/(plot.Pop_ped/1e5)"
   ]
  },
  {
   "cell_type": "code",
   "execution_count": 39,
   "metadata": {},
   "outputs": [],
   "source": [
    "plot.to_csv('Inputs/us_asthmaprediction.csv')"
   ]
  },
  {
   "cell_type": "code",
   "execution_count": null,
   "metadata": {},
   "outputs": [],
   "source": []
  }
 ],
 "metadata": {
  "kernelspec": {
   "display_name": "gis_project",
   "language": "python",
   "name": "gis_project"
  },
  "language_info": {
   "codemirror_mode": {
    "name": "ipython",
    "version": 3
   },
   "file_extension": ".py",
   "mimetype": "text/x-python",
   "name": "python",
   "nbconvert_exporter": "python",
   "pygments_lexer": "ipython3",
   "version": "3.8.16"
  },
  "orig_nbformat": 4
 },
 "nbformat": 4,
 "nbformat_minor": 2
}
